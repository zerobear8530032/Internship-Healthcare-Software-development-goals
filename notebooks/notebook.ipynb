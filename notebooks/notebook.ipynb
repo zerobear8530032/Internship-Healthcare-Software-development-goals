{
 "cells": [
  {
   "cell_type": "code",
   "execution_count": 26,
   "id": "98df5ce1-786e-4bf1-af5a-1b765edb2f99",
   "metadata": {},
   "outputs": [
    {
     "name": "stderr",
     "output_type": "stream",
     "text": [
      "[nltk_data] Downloading package stopwords to C:\\Users\\abdul\n",
      "[nltk_data]     saboor\\AppData\\Roaming\\nltk_data...\n",
      "[nltk_data]   Package stopwords is already up-to-date!\n",
      "[nltk_data] Downloading package wordnet to C:\\Users\\abdul\n",
      "[nltk_data]     saboor\\AppData\\Roaming\\nltk_data...\n",
      "[nltk_data]   Package wordnet is already up-to-date!\n"
     ]
    },
    {
     "data": {
      "text/plain": [
       "True"
      ]
     },
     "execution_count": 26,
     "metadata": {},
     "output_type": "execute_result"
    }
   ],
   "source": [
    "import pandas as pd\n",
    "from sklearn.model_selection import train_test_split\n",
    "from sklearn.feature_extraction.text import CountVectorizer\n",
    "from sklearn.naive_bayes import MultinomialNB\n",
    "from sklearn.metrics import accuracy_score, classification_report\n",
    "import nltk\n",
    "from nltk.corpus import stopwords\n",
    "from nltk.stem import WordNetLemmatizer\n",
    "import pickle\n",
    "import random\n",
    "nltk.download('stopwords')\n",
    "nltk.download('wordnet')\n"
   ]
  },
  {
   "cell_type": "code",
   "execution_count": 4,
   "id": "abdf675b-7680-4d09-9902-8f14c114e324",
   "metadata": {},
   "outputs": [
    {
     "data": {
      "text/html": [
       "<div>\n",
       "<style scoped>\n",
       "    .dataframe tbody tr th:only-of-type {\n",
       "        vertical-align: middle;\n",
       "    }\n",
       "\n",
       "    .dataframe tbody tr th {\n",
       "        vertical-align: top;\n",
       "    }\n",
       "\n",
       "    .dataframe thead th {\n",
       "        text-align: right;\n",
       "    }\n",
       "</style>\n",
       "<table border=\"1\" class=\"dataframe\">\n",
       "  <thead>\n",
       "    <tr style=\"text-align: right;\">\n",
       "      <th></th>\n",
       "      <th>text</th>\n",
       "      <th>label</th>\n",
       "    </tr>\n",
       "  </thead>\n",
       "  <tbody>\n",
       "    <tr>\n",
       "      <th>0</th>\n",
       "      <td>i didnt feel humiliated</td>\n",
       "      <td>0</td>\n",
       "    </tr>\n",
       "    <tr>\n",
       "      <th>1</th>\n",
       "      <td>i can go from feeling so hopeless to so damned...</td>\n",
       "      <td>0</td>\n",
       "    </tr>\n",
       "    <tr>\n",
       "      <th>2</th>\n",
       "      <td>im grabbing a minute to post i feel greedy wrong</td>\n",
       "      <td>3</td>\n",
       "    </tr>\n",
       "    <tr>\n",
       "      <th>3</th>\n",
       "      <td>i am ever feeling nostalgic about the fireplac...</td>\n",
       "      <td>2</td>\n",
       "    </tr>\n",
       "    <tr>\n",
       "      <th>4</th>\n",
       "      <td>i am feeling grouchy</td>\n",
       "      <td>3</td>\n",
       "    </tr>\n",
       "    <tr>\n",
       "      <th>...</th>\n",
       "      <td>...</td>\n",
       "      <td>...</td>\n",
       "    </tr>\n",
       "    <tr>\n",
       "      <th>15995</th>\n",
       "      <td>i just had a very brief time in the beanbag an...</td>\n",
       "      <td>0</td>\n",
       "    </tr>\n",
       "    <tr>\n",
       "      <th>15996</th>\n",
       "      <td>i am now turning and i feel pathetic that i am...</td>\n",
       "      <td>0</td>\n",
       "    </tr>\n",
       "    <tr>\n",
       "      <th>15997</th>\n",
       "      <td>i feel strong and good overall</td>\n",
       "      <td>1</td>\n",
       "    </tr>\n",
       "    <tr>\n",
       "      <th>15998</th>\n",
       "      <td>i feel like this was such a rude comment and i...</td>\n",
       "      <td>3</td>\n",
       "    </tr>\n",
       "    <tr>\n",
       "      <th>15999</th>\n",
       "      <td>i know a lot but i feel so stupid because i ca...</td>\n",
       "      <td>0</td>\n",
       "    </tr>\n",
       "  </tbody>\n",
       "</table>\n",
       "<p>16000 rows × 2 columns</p>\n",
       "</div>"
      ],
      "text/plain": [
       "                                                    text  label\n",
       "0                                i didnt feel humiliated      0\n",
       "1      i can go from feeling so hopeless to so damned...      0\n",
       "2       im grabbing a minute to post i feel greedy wrong      3\n",
       "3      i am ever feeling nostalgic about the fireplac...      2\n",
       "4                                   i am feeling grouchy      3\n",
       "...                                                  ...    ...\n",
       "15995  i just had a very brief time in the beanbag an...      0\n",
       "15996  i am now turning and i feel pathetic that i am...      0\n",
       "15997                     i feel strong and good overall      1\n",
       "15998  i feel like this was such a rude comment and i...      3\n",
       "15999  i know a lot but i feel so stupid because i ca...      0\n",
       "\n",
       "[16000 rows x 2 columns]"
      ]
     },
     "execution_count": 4,
     "metadata": {},
     "output_type": "execute_result"
    }
   ],
   "source": [
    "df = pd.read_csv(\"datasets/training.csv\")\n",
    "df"
   ]
  },
  {
   "cell_type": "code",
   "execution_count": 5,
   "id": "02eda540-6744-4fc4-9b1e-b45d32a76236",
   "metadata": {},
   "outputs": [
    {
     "data": {
      "text/html": [
       "<div>\n",
       "<style scoped>\n",
       "    .dataframe tbody tr th:only-of-type {\n",
       "        vertical-align: middle;\n",
       "    }\n",
       "\n",
       "    .dataframe tbody tr th {\n",
       "        vertical-align: top;\n",
       "    }\n",
       "\n",
       "    .dataframe thead th {\n",
       "        text-align: right;\n",
       "    }\n",
       "</style>\n",
       "<table border=\"1\" class=\"dataframe\">\n",
       "  <thead>\n",
       "    <tr style=\"text-align: right;\">\n",
       "      <th></th>\n",
       "      <th>text</th>\n",
       "      <th>label</th>\n",
       "    </tr>\n",
       "  </thead>\n",
       "  <tbody>\n",
       "    <tr>\n",
       "      <th>0</th>\n",
       "      <td>i didnt feel humiliated</td>\n",
       "      <td>0</td>\n",
       "    </tr>\n",
       "    <tr>\n",
       "      <th>1</th>\n",
       "      <td>i can go from feeling so hopeless to so damned...</td>\n",
       "      <td>0</td>\n",
       "    </tr>\n",
       "    <tr>\n",
       "      <th>2</th>\n",
       "      <td>im grabbing a minute to post i feel greedy wrong</td>\n",
       "      <td>3</td>\n",
       "    </tr>\n",
       "    <tr>\n",
       "      <th>3</th>\n",
       "      <td>i am ever feeling nostalgic about the fireplac...</td>\n",
       "      <td>2</td>\n",
       "    </tr>\n",
       "    <tr>\n",
       "      <th>4</th>\n",
       "      <td>i am feeling grouchy</td>\n",
       "      <td>3</td>\n",
       "    </tr>\n",
       "  </tbody>\n",
       "</table>\n",
       "</div>"
      ],
      "text/plain": [
       "                                                text  label\n",
       "0                            i didnt feel humiliated      0\n",
       "1  i can go from feeling so hopeless to so damned...      0\n",
       "2   im grabbing a minute to post i feel greedy wrong      3\n",
       "3  i am ever feeling nostalgic about the fireplac...      2\n",
       "4                               i am feeling grouchy      3"
      ]
     },
     "execution_count": 5,
     "metadata": {},
     "output_type": "execute_result"
    }
   ],
   "source": [
    "\n",
    "# Display the first few rows\n",
    "df.head()"
   ]
  },
  {
   "cell_type": "code",
   "execution_count": 6,
   "id": "9762eaf5-2366-4a3a-bee2-a3b5e338bcb2",
   "metadata": {},
   "outputs": [],
   "source": [
    "# Preprocess the text data\n",
    "stop_words = set(stopwords.words('english'))\n",
    "lemmatizer = WordNetLemmatizer()\n"
   ]
  },
  {
   "cell_type": "code",
   "execution_count": 7,
   "id": "c62066aa-df50-4211-8e9a-0c7c316ff2ab",
   "metadata": {},
   "outputs": [],
   "source": [
    "\n",
    "def preprocess_text(text):\n",
    "    text = text.lower()\n",
    "    words = text.split()\n",
    "    words = [lemmatizer.lemmatize(word) for word in words if word not in stop_words]\n",
    "    return ' '.join(words)\n"
   ]
  },
  {
   "cell_type": "code",
   "execution_count": 8,
   "id": "7914f139-1fe9-4397-8e27-74dcc35b9dc3",
   "metadata": {},
   "outputs": [],
   "source": [
    "\n",
    "df['processed_text'] = df['text'].apply(preprocess_text)"
   ]
  },
  {
   "cell_type": "code",
   "execution_count": 9,
   "id": "4e2982d9-6973-482e-a75d-383b43ddee44",
   "metadata": {},
   "outputs": [],
   "source": [
    "x_train = df['processed_text']\n",
    "y_train = df['label']\n"
   ]
  },
  {
   "cell_type": "code",
   "execution_count": 10,
   "id": "83c94b3a-19ce-4535-80c0-545bede9972b",
   "metadata": {},
   "outputs": [],
   "source": [
    "test_data = pd.read_csv(\"datasets/test.csv\")\n",
    "x_test = test_data[\"text\"]\n",
    "y_test= test_data[\"label\"]\n"
   ]
  },
  {
   "cell_type": "code",
   "execution_count": 11,
   "id": "44a17413-9c67-41e1-9a4c-c81e9f853939",
   "metadata": {},
   "outputs": [],
   "source": [
    "vectorizer = CountVectorizer()\n",
    "x_train_vec = vectorizer.fit_transform(x_train)\n",
    "x_test_vec = vectorizer.transform(x_test)\n"
   ]
  },
  {
   "cell_type": "code",
   "execution_count": 12,
   "id": "2f902c24-2b50-4255-bfa6-bad1efbaa1d5",
   "metadata": {},
   "outputs": [
    {
     "data": {
      "text/html": [
       "<style>#sk-container-id-1 {color: black;}#sk-container-id-1 pre{padding: 0;}#sk-container-id-1 div.sk-toggleable {background-color: white;}#sk-container-id-1 label.sk-toggleable__label {cursor: pointer;display: block;width: 100%;margin-bottom: 0;padding: 0.3em;box-sizing: border-box;text-align: center;}#sk-container-id-1 label.sk-toggleable__label-arrow:before {content: \"▸\";float: left;margin-right: 0.25em;color: #696969;}#sk-container-id-1 label.sk-toggleable__label-arrow:hover:before {color: black;}#sk-container-id-1 div.sk-estimator:hover label.sk-toggleable__label-arrow:before {color: black;}#sk-container-id-1 div.sk-toggleable__content {max-height: 0;max-width: 0;overflow: hidden;text-align: left;background-color: #f0f8ff;}#sk-container-id-1 div.sk-toggleable__content pre {margin: 0.2em;color: black;border-radius: 0.25em;background-color: #f0f8ff;}#sk-container-id-1 input.sk-toggleable__control:checked~div.sk-toggleable__content {max-height: 200px;max-width: 100%;overflow: auto;}#sk-container-id-1 input.sk-toggleable__control:checked~label.sk-toggleable__label-arrow:before {content: \"▾\";}#sk-container-id-1 div.sk-estimator input.sk-toggleable__control:checked~label.sk-toggleable__label {background-color: #d4ebff;}#sk-container-id-1 div.sk-label input.sk-toggleable__control:checked~label.sk-toggleable__label {background-color: #d4ebff;}#sk-container-id-1 input.sk-hidden--visually {border: 0;clip: rect(1px 1px 1px 1px);clip: rect(1px, 1px, 1px, 1px);height: 1px;margin: -1px;overflow: hidden;padding: 0;position: absolute;width: 1px;}#sk-container-id-1 div.sk-estimator {font-family: monospace;background-color: #f0f8ff;border: 1px dotted black;border-radius: 0.25em;box-sizing: border-box;margin-bottom: 0.5em;}#sk-container-id-1 div.sk-estimator:hover {background-color: #d4ebff;}#sk-container-id-1 div.sk-parallel-item::after {content: \"\";width: 100%;border-bottom: 1px solid gray;flex-grow: 1;}#sk-container-id-1 div.sk-label:hover label.sk-toggleable__label {background-color: #d4ebff;}#sk-container-id-1 div.sk-serial::before {content: \"\";position: absolute;border-left: 1px solid gray;box-sizing: border-box;top: 0;bottom: 0;left: 50%;z-index: 0;}#sk-container-id-1 div.sk-serial {display: flex;flex-direction: column;align-items: center;background-color: white;padding-right: 0.2em;padding-left: 0.2em;position: relative;}#sk-container-id-1 div.sk-item {position: relative;z-index: 1;}#sk-container-id-1 div.sk-parallel {display: flex;align-items: stretch;justify-content: center;background-color: white;position: relative;}#sk-container-id-1 div.sk-item::before, #sk-container-id-1 div.sk-parallel-item::before {content: \"\";position: absolute;border-left: 1px solid gray;box-sizing: border-box;top: 0;bottom: 0;left: 50%;z-index: -1;}#sk-container-id-1 div.sk-parallel-item {display: flex;flex-direction: column;z-index: 1;position: relative;background-color: white;}#sk-container-id-1 div.sk-parallel-item:first-child::after {align-self: flex-end;width: 50%;}#sk-container-id-1 div.sk-parallel-item:last-child::after {align-self: flex-start;width: 50%;}#sk-container-id-1 div.sk-parallel-item:only-child::after {width: 0;}#sk-container-id-1 div.sk-dashed-wrapped {border: 1px dashed gray;margin: 0 0.4em 0.5em 0.4em;box-sizing: border-box;padding-bottom: 0.4em;background-color: white;}#sk-container-id-1 div.sk-label label {font-family: monospace;font-weight: bold;display: inline-block;line-height: 1.2em;}#sk-container-id-1 div.sk-label-container {text-align: center;}#sk-container-id-1 div.sk-container {/* jupyter's `normalize.less` sets `[hidden] { display: none; }` but bootstrap.min.css set `[hidden] { display: none !important; }` so we also need the `!important` here to be able to override the default hidden behavior on the sphinx rendered scikit-learn.org. See: https://github.com/scikit-learn/scikit-learn/issues/21755 */display: inline-block !important;position: relative;}#sk-container-id-1 div.sk-text-repr-fallback {display: none;}</style><div id=\"sk-container-id-1\" class=\"sk-top-container\"><div class=\"sk-text-repr-fallback\"><pre>MultinomialNB()</pre><b>In a Jupyter environment, please rerun this cell to show the HTML representation or trust the notebook. <br />On GitHub, the HTML representation is unable to render, please try loading this page with nbviewer.org.</b></div><div class=\"sk-container\" hidden><div class=\"sk-item\"><div class=\"sk-estimator sk-toggleable\"><input class=\"sk-toggleable__control sk-hidden--visually\" id=\"sk-estimator-id-1\" type=\"checkbox\" checked><label for=\"sk-estimator-id-1\" class=\"sk-toggleable__label sk-toggleable__label-arrow\">MultinomialNB</label><div class=\"sk-toggleable__content\"><pre>MultinomialNB()</pre></div></div></div></div></div>"
      ],
      "text/plain": [
       "MultinomialNB()"
      ]
     },
     "execution_count": 12,
     "metadata": {},
     "output_type": "execute_result"
    }
   ],
   "source": [
    "model = MultinomialNB()\n",
    "model.fit(x_train_vec, y_train)\n"
   ]
  },
  {
   "cell_type": "code",
   "execution_count": 13,
   "id": "33ad7855-5b4b-43fc-8383-3108f50e6bde",
   "metadata": {},
   "outputs": [
    {
     "name": "stdout",
     "output_type": "stream",
     "text": [
      "Accuracy: 0.8065\n",
      "Classification Report:\n",
      "              precision    recall  f1-score   support\n",
      "\n",
      "           0       0.76      0.95      0.85       581\n",
      "           1       0.81      0.94      0.87       695\n",
      "           2       0.86      0.38      0.53       159\n",
      "           3       0.91      0.69      0.78       275\n",
      "           4       0.80      0.68      0.74       224\n",
      "           5       0.83      0.08      0.14        66\n",
      "\n",
      "    accuracy                           0.81      2000\n",
      "   macro avg       0.83      0.62      0.65      2000\n",
      "weighted avg       0.82      0.81      0.79      2000\n",
      "\n"
     ]
    }
   ],
   "source": [
    "y_pred = model.predict(x_test_vec)\n",
    "\n",
    "print('Accuracy:', accuracy_score(y_test, y_pred))\n",
    "print('Classification Report:')\n",
    "print(classification_report(y_test, y_pred))\n"
   ]
  },
  {
   "cell_type": "code",
   "execution_count": 14,
   "id": "76ebaf30-567e-4604-8a1c-6324fb851737",
   "metadata": {},
   "outputs": [],
   "source": [
    "def predict_sentiment(text):\n",
    "    processed_text = preprocess_text(text)\n",
    "    text_vec = vectorizer.transform([processed_text])\n",
    "    prediction = model.predict(text_vec)\n",
    "    replies = {\n",
    "    0: [\"I'm sorry to hear that. Here are some resources that might help.\",\n",
    "        \"It seems like you're having a tough time. How about taking a break and doing something you enjoy?\",\n",
    "        \"Remember, it's okay to feel down sometimes. Here are some tips to lift your mood.\"],\n",
    "    1: [\"That's great to hear! Keep up the positive vibes.\",\n",
    "        \"Awesome! It sounds like you're doing well. Keep it up!\",\n",
    "        \"It's wonderful to see you in high spirits. Stay positive!\"],\n",
    "    2: [\"Thanks for sharing. How can I assist you further?\",\n",
    "        \"Got it. Is there anything specific you'd like to talk about?\",\n",
    "        \"I understand. Let me know if there's anything you need.\"],\n",
    "    3: [\"It seems like you're upset. Here are some techniques to calm down.\",\n",
    "        \"I'm sorry you're feeling this way. Let's try to find a solution.\",\n",
    "        \"Anger can be tough to manage. Here are some resources that might help.\"],\n",
    "    4: [\"I'm sorry to hear that you're feeling sad. Here are some comforting thoughts.\",\n",
    "        \"It's okay to feel sad sometimes. Here are some ways to cope.\",\n",
    "        \"I'm here for you. Here are some resources that might help.\"],\n",
    "    5: [\"Stay informed with our health tips.\",\n",
    "        \"Explore our health resources for more information.\",\n",
    "        \"Check out these articles to learn more.\"]\n",
    "}\n",
    "    return replies[prediction[0]][random.randint(0,2)]\n",
    "\n",
    "\n"
   ]
  },
  {
   "cell_type": "code",
   "execution_count": 15,
   "id": "c22aefa2-ea30-4cdf-b023-991e999e7a3d",
   "metadata": {},
   "outputs": [
    {
     "name": "stdout",
     "output_type": "stream",
     "text": [
      "Remember, it's okay to feel down sometimes. Here are some tips to lift your mood.\n",
      "It seems like you're having a tough time. How about taking a break and doing something you enjoy?\n",
      "I'm sorry to hear that. Here are some resources that might help.\n",
      "Remember, it's okay to feel down sometimes. Here are some tips to lift your mood.\n",
      "Remember, it's okay to feel down sometimes. Here are some tips to lift your mood.\n",
      "I'm sorry to hear that. Here are some resources that might help.\n",
      "It seems like you're having a tough time. How about taking a break and doing something you enjoy?\n",
      "I'm sorry to hear that. Here are some resources that might help.\n",
      "Remember, it's okay to feel down sometimes. Here are some tips to lift your mood.\n",
      "It seems like you're having a tough time. How about taking a break and doing something you enjoy?\n",
      "Remember, it's okay to feel down sometimes. Here are some tips to lift your mood.\n",
      "I'm sorry to hear that. Here are some resources that might help.\n",
      "It seems like you're having a tough time. How about taking a break and doing something you enjoy?\n",
      "It seems like you're having a tough time. How about taking a break and doing something you enjoy?\n",
      "Remember, it's okay to feel down sometimes. Here are some tips to lift your mood.\n",
      "Remember, it's okay to feel down sometimes. Here are some tips to lift your mood.\n",
      "Remember, it's okay to feel down sometimes. Here are some tips to lift your mood.\n",
      "Remember, it's okay to feel down sometimes. Here are some tips to lift your mood.\n",
      "Remember, it's okay to feel down sometimes. Here are some tips to lift your mood.\n",
      "I'm sorry to hear that. Here are some resources that might help.\n",
      "It seems like you're having a tough time. How about taking a break and doing something you enjoy?\n",
      "Remember, it's okay to feel down sometimes. Here are some tips to lift your mood.\n",
      "I'm sorry to hear that. Here are some resources that might help.\n",
      "It seems like you're having a tough time. How about taking a break and doing something you enjoy?\n",
      "It seems like you're having a tough time. How about taking a break and doing something you enjoy?\n",
      "Remember, it's okay to feel down sometimes. Here are some tips to lift your mood.\n",
      "Remember, it's okay to feel down sometimes. Here are some tips to lift your mood.\n",
      "I'm sorry to hear that. Here are some resources that might help.\n",
      "I'm sorry to hear that. Here are some resources that might help.\n",
      "It seems like you're having a tough time. How about taking a break and doing something you enjoy?\n",
      "It seems like you're having a tough time. How about taking a break and doing something you enjoy?\n",
      "It seems like you're having a tough time. How about taking a break and doing something you enjoy?\n",
      "Remember, it's okay to feel down sometimes. Here are some tips to lift your mood.\n",
      "I'm sorry to hear that. Here are some resources that might help.\n",
      "Remember, it's okay to feel down sometimes. Here are some tips to lift your mood.\n",
      "I'm sorry to hear that. Here are some resources that might help.\n",
      "It seems like you're having a tough time. How about taking a break and doing something you enjoy?\n",
      "I'm sorry to hear that. Here are some resources that might help.\n",
      "It seems like you're having a tough time. How about taking a break and doing something you enjoy?\n",
      "It seems like you're having a tough time. How about taking a break and doing something you enjoy?\n",
      "It seems like you're having a tough time. How about taking a break and doing something you enjoy?\n",
      "Remember, it's okay to feel down sometimes. Here are some tips to lift your mood.\n",
      "It seems like you're having a tough time. How about taking a break and doing something you enjoy?\n",
      "I'm sorry to hear that. Here are some resources that might help.\n",
      "I'm sorry to hear that. Here are some resources that might help.\n",
      "Remember, it's okay to feel down sometimes. Here are some tips to lift your mood.\n",
      "I'm sorry to hear that. Here are some resources that might help.\n",
      "It seems like you're having a tough time. How about taking a break and doing something you enjoy?\n",
      "It seems like you're having a tough time. How about taking a break and doing something you enjoy?\n",
      "I'm sorry to hear that. Here are some resources that might help.\n",
      "It seems like you're having a tough time. How about taking a break and doing something you enjoy?\n",
      "I'm sorry to hear that. Here are some resources that might help.\n",
      "It seems like you're having a tough time. How about taking a break and doing something you enjoy?\n",
      "Remember, it's okay to feel down sometimes. Here are some tips to lift your mood.\n",
      "It seems like you're having a tough time. How about taking a break and doing something you enjoy?\n",
      "I'm sorry to hear that. Here are some resources that might help.\n",
      "I'm sorry to hear that. Here are some resources that might help.\n",
      "Remember, it's okay to feel down sometimes. Here are some tips to lift your mood.\n",
      "It seems like you're having a tough time. How about taking a break and doing something you enjoy?\n",
      "I'm sorry to hear that. Here are some resources that might help.\n",
      "I'm sorry to hear that. Here are some resources that might help.\n",
      "It seems like you're having a tough time. How about taking a break and doing something you enjoy?\n",
      "Remember, it's okay to feel down sometimes. Here are some tips to lift your mood.\n",
      "I'm sorry to hear that. Here are some resources that might help.\n",
      "Remember, it's okay to feel down sometimes. Here are some tips to lift your mood.\n",
      "It seems like you're having a tough time. How about taking a break and doing something you enjoy?\n",
      "It seems like you're having a tough time. How about taking a break and doing something you enjoy?\n",
      "I'm sorry to hear that. Here are some resources that might help.\n",
      "I'm sorry to hear that. Here are some resources that might help.\n",
      "It seems like you're having a tough time. How about taking a break and doing something you enjoy?\n",
      "I'm sorry to hear that. Here are some resources that might help.\n",
      "It seems like you're having a tough time. How about taking a break and doing something you enjoy?\n",
      "It seems like you're having a tough time. How about taking a break and doing something you enjoy?\n",
      "I'm sorry to hear that. Here are some resources that might help.\n",
      "Remember, it's okay to feel down sometimes. Here are some tips to lift your mood.\n",
      "I'm sorry to hear that. Here are some resources that might help.\n",
      "It seems like you're having a tough time. How about taking a break and doing something you enjoy?\n",
      "I'm sorry to hear that. Here are some resources that might help.\n",
      "It seems like you're having a tough time. How about taking a break and doing something you enjoy?\n",
      "Remember, it's okay to feel down sometimes. Here are some tips to lift your mood.\n",
      "Remember, it's okay to feel down sometimes. Here are some tips to lift your mood.\n",
      "It seems like you're having a tough time. How about taking a break and doing something you enjoy?\n",
      "Remember, it's okay to feel down sometimes. Here are some tips to lift your mood.\n",
      "It seems like you're having a tough time. How about taking a break and doing something you enjoy?\n",
      "Remember, it's okay to feel down sometimes. Here are some tips to lift your mood.\n",
      "It seems like you're having a tough time. How about taking a break and doing something you enjoy?\n",
      "Remember, it's okay to feel down sometimes. Here are some tips to lift your mood.\n",
      "It seems like you're having a tough time. How about taking a break and doing something you enjoy?\n",
      "Remember, it's okay to feel down sometimes. Here are some tips to lift your mood.\n",
      "Remember, it's okay to feel down sometimes. Here are some tips to lift your mood.\n",
      "Remember, it's okay to feel down sometimes. Here are some tips to lift your mood.\n",
      "Remember, it's okay to feel down sometimes. Here are some tips to lift your mood.\n",
      "It seems like you're having a tough time. How about taking a break and doing something you enjoy?\n",
      "Remember, it's okay to feel down sometimes. Here are some tips to lift your mood.\n",
      "It seems like you're having a tough time. How about taking a break and doing something you enjoy?\n",
      "I'm sorry to hear that. Here are some resources that might help.\n",
      "I'm sorry to hear that. Here are some resources that might help.\n",
      "Remember, it's okay to feel down sometimes. Here are some tips to lift your mood.\n",
      "Remember, it's okay to feel down sometimes. Here are some tips to lift your mood.\n",
      "Remember, it's okay to feel down sometimes. Here are some tips to lift your mood.\n"
     ]
    }
   ],
   "source": [
    "# Example usage\n",
    "sample_text = \"fuck you\"\n",
    "\n",
    "i=0\n",
    "while (i<100):\n",
    "    print(predict_sentiment(sample_text))\n",
    "    i=i+1;\n"
   ]
  },
  {
   "cell_type": "code",
   "execution_count": 16,
   "id": "18783096-c8e6-47b0-8238-0df791886b13",
   "metadata": {},
   "outputs": [],
   "source": [
    "# Assuming `model` is your trained model\n",
    "with open('model.pkl', 'wb') as file:\n",
    "    pickle.dump(model, file)\n"
   ]
  },
  {
   "cell_type": "code",
   "execution_count": 17,
   "id": "dfa7d40a-f389-4b7b-9dd6-f2ca8076fac9",
   "metadata": {},
   "outputs": [],
   "source": [
    "\n",
    "# Assuming `vectorizer` is your fitted vectorizer\n",
    "with open('vectorizer.pkl', 'wb') as file:\n",
    "    pickle.dump(vectorizer, file)\n"
   ]
  },
  {
   "cell_type": "code",
   "execution_count": 18,
   "id": "34f752ad-4d94-4e6e-930e-86d9ab40db72",
   "metadata": {},
   "outputs": [],
   "source": [
    "\n",
    "# Load the model\n",
    "with open('model.pkl', 'rb') as file:\n",
    "    model = pickle.load(file)\n",
    "\n",
    "# Load the vectorizer\n",
    "with open('vectorizer.pkl', 'rb') as file:\n",
    "    vectorizer = pickle.load(file)\n"
   ]
  },
  {
   "cell_type": "code",
   "execution_count": 22,
   "id": "fc18700e-03a4-43e3-af44-76b3b424eaa1",
   "metadata": {},
   "outputs": [],
   "source": [
    "# Example data to transform\n",
    "data = [\"i didnt feel humiliated\"]\n",
    "\n",
    "# Transform the data using the vectorizer\n",
    "transformed_data = vectorizer.transform(data)\n"
   ]
  },
  {
   "cell_type": "code",
   "execution_count": 23,
   "id": "7c67a5bd-e391-45d8-a5df-b686d3a93ca7",
   "metadata": {},
   "outputs": [
    {
     "data": {
      "text/plain": [
       "['i didnt feel humiliated']"
      ]
     },
     "execution_count": 23,
     "metadata": {},
     "output_type": "execute_result"
    }
   ],
   "source": [
    "data"
   ]
  },
  {
   "cell_type": "code",
   "execution_count": 24,
   "id": "904b7b4f-f4ed-4067-9b99-6aca037d9c14",
   "metadata": {},
   "outputs": [
    {
     "name": "stdout",
     "output_type": "stream",
     "text": [
      "[0]\n"
     ]
    }
   ],
   "source": [
    "# Make predictions\n",
    "predictions = model.predict(transformed_data)\n",
    "\n",
    "# Print the results\n",
    "print(predictions)\n"
   ]
  },
  {
   "cell_type": "code",
   "execution_count": null,
   "id": "d2a3e9a2-feca-4ffb-8e72-2a4ec2e99873",
   "metadata": {},
   "outputs": [],
   "source": []
  }
 ],
 "metadata": {
  "kernelspec": {
   "display_name": "Python 3 (ipykernel)",
   "language": "python",
   "name": "python3"
  },
  "language_info": {
   "codemirror_mode": {
    "name": "ipython",
    "version": 3
   },
   "file_extension": ".py",
   "mimetype": "text/x-python",
   "name": "python",
   "nbconvert_exporter": "python",
   "pygments_lexer": "ipython3",
   "version": "3.12.1"
  }
 },
 "nbformat": 4,
 "nbformat_minor": 5
}
